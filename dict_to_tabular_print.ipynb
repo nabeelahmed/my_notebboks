{
 "cells": [
  {
   "cell_type": "code",
   "execution_count": 1,
   "metadata": {
    "collapsed": true
   },
   "outputs": [],
   "source": [
    "\"\"\" The task is to pretty print a list of python dictionaries in a tabulary format.\n",
    "Example Input:\n",
    "[\n",
    "   {\n",
    "       'Foo': 'Hello',\n",
    "       'Bar': 'World!',\n",
    "       'value': 12,\n",
    "   },\n",
    "   {\n",
    "       'Foo': 42,\n",
    "       'Bar': 42,\n",
    "       'count': 10,\n",
    "   }\n",
    "]\n",
    "Expected output:\n",
    "Bar    Foo   value count\n",
    "World! Hello 12\n",
    "42     42          10\n",
    "\"\"\"\n",
    "people = [\n",
    "   {'name': \"Peter Williams\", 'age': 37, 'position in the company currently': 'Software developer for Datascience'},\n",
    "   {'name': \"Daniel Smith\", 'age': 51, 'position in the company currently': 'Project Manager'},\n",
    "   {'name': \"Catherine Newman\", 'age': 22, 'position in the company currently': 'Data Analyst'},\n",
    "   {'name': \"Jessica Terrs\", 'age': 42, 'position in the company currently': 'Product Owner'},\n",
    "   {'name': \"Simon Nicks\", 'age': 19, 'position in the company currently': 'Intern', 'onboarding buddy': 'Catherine Newman'},\n",
    "]\n"
   ]
  },
  {
   "cell_type": "markdown",
   "metadata": {},
   "source": [
    "## Case 1: order is not important\n",
    "\n",
    "<b>Sets require their items to be hashable</b>. Out of types predefined by Python only the immutable ones, such as strings, numbers, and tuples, are hashable. Mutable types, such as lists and dicts, are not hashable because a change of their contents would change the hash and break the lookup code.|"
   ]
  },
  {
   "cell_type": "code",
   "execution_count": 13,
   "metadata": {},
   "outputs": [
    {
     "data": {
      "text/plain": [
       "{'age', 'name', 'onboarding buddy', 'position in the company currently'}"
      ]
     },
     "execution_count": 13,
     "metadata": {},
     "output_type": "execute_result"
    }
   ],
   "source": [
    "# set().union to extract unique keys/values from list of lists, list of dicts, dict of dicts. \n",
    "unique_keys = set().union(*(d.keys() for d in people))  # set, to remove duplicates - unordered collection of unique items.\n",
    "# * is not part of the syntax - to indicate arbitrary arguments.\n",
    "\n",
    "type(unique_keys)\n",
    "unique_keys"
   ]
  },
  {
   "cell_type": "code",
   "execution_count": 17,
   "metadata": {},
   "outputs": [
    {
     "name": "stdout",
     "output_type": "stream",
     "text": [
      "set(['name', 'age', 'onboarding buddy', 'position in the company currently'])\n"
     ]
    }
   ],
   "source": [
    "tmp = set().union(*people)\n",
    "print(tmp)\n"
   ]
  },
  {
   "cell_type": "code",
   "execution_count": 26,
   "metadata": {},
   "outputs": [
    {
     "name": "stdout",
     "output_type": "stream",
     "text": [
      "name\n",
      "Name\n",
      "age\n",
      "Age\n",
      "onboarding buddy\n",
      "Onboarding Buddy\n",
      "position in the company currently\n",
      "Position In The Company Currently\n"
     ]
    }
   ],
   "source": [
    "for i in tmp:\n",
    "    print(i)\n",
    "    print(i.title())\n",
    "    "
   ]
  },
  {
   "cell_type": "code",
   "execution_count": 30,
   "metadata": {
    "scrolled": true
   },
   "outputs": [
    {
     "name": "stdout",
     "output_type": "stream",
     "text": [
      "Age           Onboarding Buddy           Name           Position In The Company Currently           \n",
      "\n",
      "37                                       Peter Williams            Software developer for Datascience            \n",
      "\n",
      "51                                       Daniel Smith            Project Manager            \n",
      "\n",
      "22                                       Catherine Newman            Data Analyst            \n",
      "\n",
      "42                                       Jessica Terrs            Product Owner            \n",
      "\n",
      "19            Catherine Newman            Simon Nicks            Intern            \n",
      "\n"
     ]
    }
   ],
   "source": [
    "space = \"          \"\n",
    "for i in unique_keys:  # print header\n",
    "    print i.title() + space, # i.title() for capital case + 8 spaces apart\n",
    "#     print(i, end=space) # Python 3\n",
    "print \"\\n\"\n",
    "for p in people:  # data printing\n",
    "    for i in unique_keys:\n",
    "        e = ' ' * (len(i) - 1)  # empty space, in case of no value\n",
    "        print p.get(i, e), space,\n",
    "    print \"\\n\""
   ]
  },
  {
   "cell_type": "markdown",
   "metadata": {},
   "source": [
    "## Case 2: Order is important"
   ]
  },
  {
   "cell_type": "markdown",
   "metadata": {},
   "source": [
    "Ordinary dict to OrderedDict: "
   ]
  },
  {
   "cell_type": "code",
   "execution_count": 10,
   "metadata": {},
   "outputs": [
    {
     "data": {
      "text/plain": [
       "[OrderedDict([('age', 37),\n",
       "              ('name', 'Peter Williams'),\n",
       "              ('position in the company currently',\n",
       "               'Software developer for Datascience')]),\n",
       " OrderedDict([('age', 51),\n",
       "              ('name', 'Daniel Smith'),\n",
       "              ('position in the company currently', 'Project Manager')]),\n",
       " OrderedDict([('age', 22),\n",
       "              ('name', 'Catherine Newman'),\n",
       "              ('position in the company currently', 'Data Analyst')]),\n",
       " OrderedDict([('age', 42),\n",
       "              ('name', 'Jessica Terrs'),\n",
       "              ('position in the company currently', 'Product Owner')]),\n",
       " OrderedDict([('age', 19),\n",
       "              ('onboarding buddy', 'Catherine Newman'),\n",
       "              ('name', 'Simon Nicks'),\n",
       "              ('position in the company currently', 'Intern')])]"
      ]
     },
     "execution_count": 10,
     "metadata": {},
     "output_type": "execute_result"
    }
   ],
   "source": [
    "import collections\n",
    "\n",
    "ordered_people = []\n",
    "for d in people:\n",
    "    ordered_people.append(collections.OrderedDict(d))\n",
    "ordered_people"
   ]
  },
  {
   "cell_type": "code",
   "execution_count": null,
   "metadata": {
    "collapsed": true
   },
   "outputs": [],
   "source": []
  },
  {
   "cell_type": "code",
   "execution_count": null,
   "metadata": {
    "collapsed": true
   },
   "outputs": [],
   "source": []
  }
 ],
 "metadata": {
  "kernelspec": {
   "display_name": "Python 2",
   "language": "python",
   "name": "python2"
  },
  "language_info": {
   "codemirror_mode": {
    "name": "ipython",
    "version": 2
   },
   "file_extension": ".py",
   "mimetype": "text/x-python",
   "name": "python",
   "nbconvert_exporter": "python",
   "pygments_lexer": "ipython2",
   "version": "2.7.5"
  }
 },
 "nbformat": 4,
 "nbformat_minor": 2
}
