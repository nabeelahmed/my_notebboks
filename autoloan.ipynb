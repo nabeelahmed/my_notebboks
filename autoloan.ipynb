{
 "cells": [
  {
   "cell_type": "markdown",
   "metadata": {},
   "source": [
    "3 August, 2017\n",
    "48 Months - September 2016 - Aug 2020"
   ]
  },
  {
   "cell_type": "code",
   "execution_count": 5,
   "metadata": {
    "collapsed": true
   },
   "outputs": [],
   "source": [
    "principal_amount = {1: (9939.89, 12265.60, 12173.33, 12474.96, 12201.21, 12686.35, 13161.43, 12728.34, 12841.01, 13126.82, 12902.49, 13514.52),\n",
    "                  2: (13304.73, 13422.51, 13694.55, 13811.86, 13639.46, 14047.03, 14442.28, 14024.42, 14411.23, 14534.69, 14538.14, 14783.74), \n",
    "                  3: (14797.70, 15037.16, 15061.81, 15295.01, 15235.03, 15556.55, 15863.23, 15743.53, 15882.90, 16096.64, 16165.99, 16373.03),\n",
    "                  4: (16394.77, 16708.31, 16747.07, 16895.31, 17044.88, 17231.09, 17378.71, 17527.58, 17657.29, 17829.00, 17971.42, 18135.40)\n",
    "}\n"
   ]
  },
  {
   "cell_type": "code",
   "execution_count": 6,
   "metadata": {
    "collapsed": true
   },
   "outputs": [],
   "source": [
    "# per year mark-up\n",
    "mark_up = {1: (8351.16, 6025.45, 6117.72, 5816.09, 6089.84, 5604.70, 5129.62, 5562.71, 5450.04, 5164.23, 5388.56, 4776.53),\n",
    "          2: (4986.32, 4868.54, 4596.50, 4479.19, 4651.59, 4244.02, 3848.77, 4266.63, 3879.82, 3756.36, 3752.91, 3507.31), \n",
    "          3: (3493.35, 3253.89, 3229.24, 2996.04, 3056.02, 2734.50, 2472.82, 2547.52, 2408.15, 2194.41, 2125.06, 1918.02),\n",
    "          4: (1896.28, 1582.74, 1543.98, 1395.74, 1246.17, 1059.96, 912.34, 763.47, 633.76, 462.05, 319.63, 155.36)\n",
    "}\n",
    "    "
   ]
  },
  {
   "cell_type": "code",
   "execution_count": 7,
   "metadata": {},
   "outputs": [
    {
     "data": {
      "text/plain": [
       "69476.65"
      ]
     },
     "execution_count": 7,
     "metadata": {},
     "output_type": "execute_result"
    }
   ],
   "source": [
    "sum(mark_up[1])\n"
   ]
  },
  {
   "cell_type": "code",
   "execution_count": 8,
   "metadata": {},
   "outputs": [
    {
     "data": {
      "text/plain": [
       "120314.61000000002"
      ]
     },
     "execution_count": 8,
     "metadata": {},
     "output_type": "execute_result"
    }
   ],
   "source": [
    "sum(mark_up[1]+mark_up[2])"
   ]
  },
  {
   "cell_type": "code",
   "execution_count": 10,
   "metadata": {},
   "outputs": [
    {
     "data": {
      "text/plain": [
       "[(8351.16,\n",
       "  6025.45,\n",
       "  6117.72,\n",
       "  5816.09,\n",
       "  6089.84,\n",
       "  5604.7,\n",
       "  5129.62,\n",
       "  5562.71,\n",
       "  5450.04,\n",
       "  5164.23,\n",
       "  5388.56,\n",
       "  4776.53),\n",
       " (4986.32,\n",
       "  4868.54,\n",
       "  4596.5,\n",
       "  4479.19,\n",
       "  4651.59,\n",
       "  4244.02,\n",
       "  3848.77,\n",
       "  4266.63,\n",
       "  3879.82,\n",
       "  3756.36,\n",
       "  3752.91,\n",
       "  3507.31),\n",
       " (3493.35,\n",
       "  3253.89,\n",
       "  3229.24,\n",
       "  2996.04,\n",
       "  3056.02,\n",
       "  2734.5,\n",
       "  2472.82,\n",
       "  2547.52,\n",
       "  2408.15,\n",
       "  2194.41,\n",
       "  2125.06,\n",
       "  1918.02),\n",
       " (1896.28,\n",
       "  1582.74,\n",
       "  1543.98,\n",
       "  1395.74,\n",
       "  1246.17,\n",
       "  1059.96,\n",
       "  912.34,\n",
       "  763.47,\n",
       "  633.76,\n",
       "  462.05,\n",
       "  319.63,\n",
       "  155.36)]"
      ]
     },
     "execution_count": 10,
     "metadata": {},
     "output_type": "execute_result"
    }
   ],
   "source": [
    "mark_up.values()"
   ]
  },
  {
   "cell_type": "code",
   "execution_count": 19,
   "metadata": {},
   "outputs": [
    {
     "data": {
      "text/plain": [
       "{1: 69476.65,\n",
       " 2: 50837.95999999999,\n",
       " 3: 32429.020000000004,\n",
       " 4: 11971.479999999998}"
      ]
     },
     "execution_count": 19,
     "metadata": {},
     "output_type": "execute_result"
    }
   ],
   "source": [
    "per_year_markup = {k:sum(v) for k, v in mark_up.iteritems() }\n",
    "per_year_markup\n",
    "    "
   ]
  },
  {
   "cell_type": "code",
   "execution_count": 20,
   "metadata": {},
   "outputs": [
    {
     "data": {
      "text/plain": [
       "{1: 150015.94999999995,\n",
       " 2: 168654.63999999996,\n",
       " 3: 187108.58,\n",
       " 4: 207520.83000000005}"
      ]
     },
     "execution_count": 20,
     "metadata": {},
     "output_type": "execute_result"
    }
   ],
   "source": [
    "per_year_pp = {k:sum(v) for k, v in principal_amount.iteritems() }\n",
    "per_year_pp"
   ]
  },
  {
   "cell_type": "code",
   "execution_count": 22,
   "metadata": {},
   "outputs": [
    {
     "data": {
      "text/plain": [
       "713300.0"
      ]
     },
     "execution_count": 22,
     "metadata": {},
     "output_type": "execute_result"
    }
   ],
   "source": [
    "total_pp = sum(per_year_pp.values())\n",
    "total_pp"
   ]
  },
  {
   "cell_type": "code",
   "execution_count": 24,
   "metadata": {},
   "outputs": [
    {
     "data": {
      "text/plain": [
       "164715.11000000002"
      ]
     },
     "execution_count": 24,
     "metadata": {},
     "output_type": "execute_result"
    }
   ],
   "source": [
    "total_markup = sum(per_year_markup.values())\n",
    "total_markup"
   ]
  },
  {
   "cell_type": "markdown",
   "metadata": {},
   "source": [
    "# As on 3 August, 2017 - 12 installments paid"
   ]
  },
  {
   "cell_type": "code",
   "execution_count": 27,
   "metadata": {},
   "outputs": [
    {
     "data": {
      "text/plain": [
       "95238.45999999999"
      ]
     },
     "execution_count": 27,
     "metadata": {},
     "output_type": "execute_result"
    }
   ],
   "source": [
    "markup_to_pay = sum(per_year_markup.values()[1:])\n",
    "markup_to_pay"
   ]
  },
  {
   "cell_type": "code",
   "execution_count": 28,
   "metadata": {},
   "outputs": [
    {
     "data": {
      "text/plain": [
       "563284.05"
      ]
     },
     "execution_count": 28,
     "metadata": {},
     "output_type": "execute_result"
    }
   ],
   "source": [
    "pp_to_pay = sum(per_year_pp.values()[1:])\n",
    "pp_to_pay"
   ]
  },
  {
   "cell_type": "code",
   "execution_count": 31,
   "metadata": {},
   "outputs": [
    {
     "data": {
      "text/plain": [
       "[69476.65]"
      ]
     },
     "execution_count": 31,
     "metadata": {},
     "output_type": "execute_result"
    }
   ],
   "source": [
    "markup_paid = per_year_markup.values()[:1]\n",
    "markup_paid"
   ]
  },
  {
   "cell_type": "code",
   "execution_count": 46,
   "metadata": {},
   "outputs": [
    {
     "data": {
      "text/plain": [
       "[150015.94999999995]"
      ]
     },
     "execution_count": 46,
     "metadata": {},
     "output_type": "execute_result"
    }
   ],
   "source": [
    "pp_paid = per_year_pp.values()[:1]\n",
    "pp_paid"
   ]
  },
  {
   "cell_type": "markdown",
   "metadata": {},
   "source": [
    "Principal paid = 150,015.95\n",
    "\n",
    "Mark up paid = 69,476.65\n",
    "\n",
    "Principal amount pending = 563,284.05"
   ]
  },
  {
   "cell_type": "markdown",
   "metadata": {},
   "source": [
    "# Prepayment - for 2nd year, 5% of the remaining principal amount"
   ]
  },
  {
   "cell_type": "code",
   "execution_count": 39,
   "metadata": {},
   "outputs": [
    {
     "data": {
      "text/plain": [
       "28164.2025"
      ]
     },
     "execution_count": 39,
     "metadata": {},
     "output_type": "execute_result"
    }
   ],
   "source": [
    "prepayment_charges = (5 * pp_to_pay)/100\n",
    "prepayment_charges"
   ]
  },
  {
   "cell_type": "code",
   "execution_count": 40,
   "metadata": {
    "collapsed": true
   },
   "outputs": [],
   "source": [
    "current_resale = 1150000  # current market price"
   ]
  },
  {
   "cell_type": "code",
   "execution_count": 42,
   "metadata": {},
   "outputs": [
    {
     "data": {
      "text/plain": [
       "67074.25749999999"
      ]
     },
     "execution_count": 42,
     "metadata": {},
     "output_type": "execute_result"
    }
   ],
   "source": [
    "can_be_saved = markup_to_pay - prepayment_charges\n",
    "can_be_saved\n"
   ]
  },
  {
   "cell_type": "code",
   "execution_count": 43,
   "metadata": {},
   "outputs": [
    {
     "data": {
      "text/plain": [
       "591448.2525000001"
      ]
     },
     "execution_count": 43,
     "metadata": {},
     "output_type": "execute_result"
    }
   ],
   "source": [
    "prepayment_to_pay = prepayment_charges + pp_to_pay\n",
    "prepayment_to_pay"
   ]
  },
  {
   "cell_type": "code",
   "execution_count": 45,
   "metadata": {},
   "outputs": [
    {
     "data": {
      "text/plain": [
       "558551.7474999999"
      ]
     },
     "execution_count": 45,
     "metadata": {},
     "output_type": "execute_result"
    }
   ],
   "source": [
    "cash_in_hand = current_resale - prepayment_to_pay\n",
    "cash_in_hand"
   ]
  },
  {
   "cell_type": "markdown",
   "metadata": {},
   "source": [
    "Amount to pay with 5% prepayment charges = 591,448.25\n",
    "\n",
    "Cash after selling the car = 558,551.75\n",
    "\n",
    "\n"
   ]
  },
  {
   "cell_type": "code",
   "execution_count": null,
   "metadata": {
    "collapsed": true
   },
   "outputs": [],
   "source": []
  }
 ],
 "metadata": {
  "kernelspec": {
   "display_name": "venv_scientific",
   "language": "python",
   "name": "venv_scientific"
  },
  "language_info": {
   "codemirror_mode": {
    "name": "ipython",
    "version": 2
   },
   "file_extension": ".py",
   "mimetype": "text/x-python",
   "name": "python",
   "nbconvert_exporter": "python",
   "pygments_lexer": "ipython2",
   "version": "2.7.5"
  }
 },
 "nbformat": 4,
 "nbformat_minor": 2
}
