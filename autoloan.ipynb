{
 "cells": [
  {
   "cell_type": "markdown",
   "metadata": {},
   "source": [
    "Last modified - 3 August, 2017\n",
    "48 Months - September 2016 - Aug 2020"
   ]
  },
  {
   "cell_type": "code",
   "execution_count": 1,
   "metadata": {
    "collapsed": true
   },
   "outputs": [],
   "source": [
    "principal_amount = {1: (9939.89, 12265.60, 12173.33, 12474.96, 12201.21, 12686.35, 13161.43, 12728.34, 12841.01, 13126.82, 12902.49, 13514.52),\n",
    "                  2: (13304.73, 13422.51, 13694.55, 13811.86, 13639.46, 14047.03, 14442.28, 14024.42, 14411.23, 14534.69, 14538.14, 14783.74), \n",
    "                  3: (14797.70, 15037.16, 15061.81, 15295.01, 15235.03, 15556.55, 15863.23, 15743.53, 15882.90, 16096.64, 16165.99, 16373.03),\n",
    "                  4: (16394.77, 16708.31, 16747.07, 16895.31, 17044.88, 17231.09, 17378.71, 17527.58, 17657.29, 17829.00, 17971.42, 18135.40)\n",
    "}"
   ]
  },
  {
   "cell_type": "code",
   "execution_count": 2,
   "metadata": {
    "collapsed": true
   },
   "outputs": [],
   "source": [
    "# per year mark-up\n",
    "mark_up = {1: (8351.16, 6025.45, 6117.72, 5816.09, 6089.84, 5604.70, 5129.62, 5562.71, 5450.04, 5164.23, 5388.56, 4776.53),\n",
    "          2: (4986.32, 4868.54, 4596.50, 4479.19, 4651.59, 4244.02, 3848.77, 4266.63, 3879.82, 3756.36, 3752.91, 3507.31), \n",
    "          3: (3493.35, 3253.89, 3229.24, 2996.04, 3056.02, 2734.50, 2472.82, 2547.52, 2408.15, 2194.41, 2125.06, 1918.02),\n",
    "          4: (1896.28, 1582.74, 1543.98, 1395.74, 1246.17, 1059.96, 912.34, 763.47, 633.76, 462.05, 319.63, 155.36)\n",
    "}"
   ]
  },
  {
   "cell_type": "code",
   "execution_count": 3,
   "metadata": {},
   "outputs": [
    {
     "data": {
      "text/plain": [
       "69476.65"
      ]
     },
     "execution_count": 3,
     "metadata": {},
     "output_type": "execute_result"
    }
   ],
   "source": [
    "sum(mark_up[1])  # year 1"
   ]
  },
  {
   "cell_type": "code",
   "execution_count": 4,
   "metadata": {},
   "outputs": [
    {
     "data": {
      "text/plain": [
       "120314.61000000002"
      ]
     },
     "execution_count": 4,
     "metadata": {},
     "output_type": "execute_result"
    }
   ],
   "source": [
    "sum(mark_up[1]+mark_up[2])  # year 1 and 2"
   ]
  },
  {
   "cell_type": "code",
   "execution_count": null,
   "metadata": {},
   "outputs": [],
   "source": []
  },
  {
   "cell_type": "code",
   "execution_count": 6,
   "metadata": {},
   "outputs": [
    {
     "data": {
      "text/plain": [
       "{1: 69476.65,\n",
       " 2: 50837.95999999999,\n",
       " 3: 32429.020000000004,\n",
       " 4: 11971.479999999998}"
      ]
     },
     "execution_count": 6,
     "metadata": {},
     "output_type": "execute_result"
    }
   ],
   "source": [
    "per_year_markup = {k:sum(v) for k, v in mark_up.iteritems() }\n",
    "per_year_markup"
   ]
  },
  {
   "cell_type": "code",
   "execution_count": 7,
   "metadata": {},
   "outputs": [
    {
     "data": {
      "text/plain": [
       "{1: 150015.94999999995,\n",
       " 2: 168654.63999999996,\n",
       " 3: 187108.58,\n",
       " 4: 207520.83000000005}"
      ]
     },
     "execution_count": 7,
     "metadata": {},
     "output_type": "execute_result"
    }
   ],
   "source": [
    "per_year_pp = {k:sum(v) for k, v in principal_amount.iteritems() }\n",
    "per_year_pp"
   ]
  },
  {
   "cell_type": "code",
   "execution_count": 8,
   "metadata": {},
   "outputs": [
    {
     "data": {
      "text/plain": [
       "713300.0"
      ]
     },
     "execution_count": 8,
     "metadata": {},
     "output_type": "execute_result"
    }
   ],
   "source": [
    "total_pp = sum(per_year_pp.values())\n",
    "total_pp"
   ]
  },
  {
   "cell_type": "code",
   "execution_count": 9,
   "metadata": {},
   "outputs": [
    {
     "data": {
      "text/plain": [
       "164715.11000000002"
      ]
     },
     "execution_count": 9,
     "metadata": {},
     "output_type": "execute_result"
    }
   ],
   "source": [
    "total_markup = sum(per_year_markup.values())\n",
    "total_markup"
   ]
  },
  {
   "cell_type": "markdown",
   "metadata": {},
   "source": [
    "# As on 12th Feb, 2018 - 18 installments paid\n",
    "\n",
    "Principal paid = 231,936.95\n",
    "\n",
    "Mark up paid = 97,302.65\n",
    "\n",
    "Principal amount pending = 495,410.05\n",
    "\n",
    "Amount to pay with 5% prepayment charges = 520,181\n",
    "\n",
    "Cash after selling the car = 649818\n",
    "\n",
    "\n",
    "# Total amount paid => 849,420\n",
    "\n",
    "\n"
   ]
  },
  {
   "cell_type": "code",
   "execution_count": 38,
   "metadata": {},
   "outputs": [
    {
     "data": {
      "text/plain": [
       "97302.81"
      ]
     },
     "execution_count": 38,
     "metadata": {},
     "output_type": "execute_result"
    }
   ],
   "source": [
    "markup_paid = sum(mark_up[1] + mark_up[2][:6])\n",
    "markup_paid"
   ]
  },
  {
   "cell_type": "code",
   "execution_count": 39,
   "metadata": {},
   "outputs": [
    {
     "data": {
      "text/plain": [
       "231936.08999999997"
      ]
     },
     "execution_count": 39,
     "metadata": {},
     "output_type": "execute_result"
    }
   ],
   "source": [
    "pp_paid = sum(principal_amount[1] + principal_amount[2][:6])\n",
    "pp_paid"
   ]
  },
  {
   "cell_type": "code",
   "execution_count": 40,
   "metadata": {},
   "outputs": [
    {
     "data": {
      "text/plain": [
       "71656.31999999999"
      ]
     },
     "execution_count": 40,
     "metadata": {},
     "output_type": "execute_result"
    }
   ],
   "source": [
    "markup_to_pay = sum(mark_up[2][5:] + mark_up[3] + mark_up[4])\n",
    "markup_to_pay"
   ]
  },
  {
   "cell_type": "code",
   "execution_count": 41,
   "metadata": {},
   "outputs": [
    {
     "data": {
      "text/plain": [
       "495410.9400000001"
      ]
     },
     "execution_count": 41,
     "metadata": {},
     "output_type": "execute_result"
    }
   ],
   "source": [
    "pp_to_pay = sum(principal_amount[2][5:] + principal_amount[3] + principal_amount[4])\n",
    "pp_to_pay"
   ]
  },
  {
   "cell_type": "markdown",
   "metadata": {},
   "source": [
    "# As (will be) on August, 2018 - 24 installments paid\n",
    "\n",
    "Principal paid = 318,670.95\n",
    "\n",
    "Mark up paid = 120,314.65\n",
    "\n",
    "## Principal amount pending = 394,629.05\n",
    "\n",
    "Amount to pay with 5% prepayment charges = 414,360\n",
    "\n",
    "Or, 0% prepayment charges = 394,628\n",
    "\n",
    "## Cash after selling the car = 800k (@ 1.2 million value - 400k to bank)\n",
    "\n",
    "### Total amount paid => 853,346\n",
    "\n",
    "or, if no prepayment charges:\n",
    "\n",
    "###  -----------------------------------------------------------\n",
    "## Total amount with 48 installments - 1,377,288 PKR\n",
    "Total interest - 164670 \n",
    "Total insurance - 144698\n",
    "\n",
    "## Basic charges 1,067,800\n",
    "1,024,000 (car invoice) + 25,000 (tax) + 18,800 (reg) => 1,067,800\n",
    "\n",
    "### ----- Amount saved ----------------------\n",
    "### 77,000\n",
    "Year 3 and 4 mark-up => 44,400\n",
    "Year 3 insurance => 32,600 (2717 per month)"
   ]
  },
  {
   "cell_type": "code",
   "execution_count": 118,
   "metadata": {},
   "outputs": [
    {
     "data": {
      "text/plain": [
       "120314.61000000002"
      ]
     },
     "execution_count": 118,
     "metadata": {},
     "output_type": "execute_result"
    }
   ],
   "source": [
    "markup_paid = sum(mark_up[1] + mark_up[2])\n",
    "markup_paid"
   ]
  },
  {
   "cell_type": "code",
   "execution_count": 119,
   "metadata": {},
   "outputs": [
    {
     "data": {
      "text/plain": [
       "318670.58999999997"
      ]
     },
     "execution_count": 119,
     "metadata": {},
     "output_type": "execute_result"
    }
   ],
   "source": [
    "pp_paid = sum(principal_amount[1] + principal_amount[2])\n",
    "pp_paid"
   ]
  },
  {
   "cell_type": "code",
   "execution_count": 120,
   "metadata": {},
   "outputs": [
    {
     "data": {
      "text/plain": [
       "44400.5"
      ]
     },
     "execution_count": 120,
     "metadata": {},
     "output_type": "execute_result"
    }
   ],
   "source": [
    "markup_to_pay = sum(mark_up[3] + mark_up[4])\n",
    "markup_to_pay"
   ]
  },
  {
   "cell_type": "code",
   "execution_count": 121,
   "metadata": {},
   "outputs": [
    {
     "data": {
      "text/plain": [
       "394629.41000000003"
      ]
     },
     "execution_count": 121,
     "metadata": {},
     "output_type": "execute_result"
    }
   ],
   "source": [
    "pp_to_pay = sum(principal_amount[3] + principal_amount[4])\n",
    "pp_to_pay"
   ]
  },
  {
   "cell_type": "code",
   "execution_count": null,
   "metadata": {
    "collapsed": true
   },
   "outputs": [],
   "source": []
  },
  {
   "cell_type": "markdown",
   "metadata": {},
   "source": [
    "# As on 3 August, 2017 - 12 installments paid\n",
    "\n",
    "Principal paid = 150,015.95\n",
    "\n",
    "Mark up paid = 69,476.65\n",
    "\n",
    "Principal amount pending = 563,284.05\n",
    "\n",
    "Amount to pay with 5% prepayment charges = 591,448.25\n",
    "\n",
    "Cash after selling the car = 558,551.75\n",
    "\n",
    "# Total amount paid => 810,940\n",
    "\n",
    "\n"
   ]
  },
  {
   "cell_type": "code",
   "execution_count": 65,
   "metadata": {},
   "outputs": [
    {
     "data": {
      "text/plain": [
       "95238.45999999999"
      ]
     },
     "execution_count": 65,
     "metadata": {},
     "output_type": "execute_result"
    }
   ],
   "source": [
    "markup_to_pay = sum(per_year_markup.values()[1:])\n",
    "markup_to_pay"
   ]
  },
  {
   "cell_type": "code",
   "execution_count": 66,
   "metadata": {},
   "outputs": [
    {
     "data": {
      "text/plain": [
       "563284.05"
      ]
     },
     "execution_count": 66,
     "metadata": {},
     "output_type": "execute_result"
    }
   ],
   "source": [
    "pp_to_pay = sum(per_year_pp.values()[1:])\n",
    "pp_to_pay"
   ]
  },
  {
   "cell_type": "code",
   "execution_count": 68,
   "metadata": {},
   "outputs": [
    {
     "data": {
      "text/plain": [
       "69476.65"
      ]
     },
     "execution_count": 68,
     "metadata": {},
     "output_type": "execute_result"
    }
   ],
   "source": [
    "markup_paid = per_year_markup.values()[:1][0]\n",
    "markup_paid"
   ]
  },
  {
   "cell_type": "code",
   "execution_count": 69,
   "metadata": {},
   "outputs": [
    {
     "data": {
      "text/plain": [
       "150015.94999999995"
      ]
     },
     "execution_count": 69,
     "metadata": {},
     "output_type": "execute_result"
    }
   ],
   "source": [
    "pp_paid = per_year_pp.values()[:1][0]\n",
    "pp_paid"
   ]
  },
  {
   "cell_type": "markdown",
   "metadata": {},
   "source": [
    "# Prepayment - for 2nd year, 5% of the remaining principal amount"
   ]
  },
  {
   "cell_type": "code",
   "execution_count": 108,
   "metadata": {},
   "outputs": [
    {
     "data": {
      "text/plain": [
       "19731.470500000003"
      ]
     },
     "execution_count": 108,
     "metadata": {},
     "output_type": "execute_result"
    }
   ],
   "source": [
    "prepayment_charges = (5 * pp_to_pay)/100\n",
    "prepayment_charges"
   ]
  },
  {
   "cell_type": "code",
   "execution_count": 109,
   "metadata": {
    "collapsed": true
   },
   "outputs": [],
   "source": [
    "current_resale = 1170000  # current market price"
   ]
  },
  {
   "cell_type": "code",
   "execution_count": 110,
   "metadata": {},
   "outputs": [
    {
     "data": {
      "text/plain": [
       "24669.029499999997"
      ]
     },
     "execution_count": 110,
     "metadata": {},
     "output_type": "execute_result"
    }
   ],
   "source": [
    "can_be_saved = markup_to_pay - prepayment_charges\n",
    "can_be_saved"
   ]
  },
  {
   "cell_type": "code",
   "execution_count": 111,
   "metadata": {},
   "outputs": [
    {
     "data": {
      "text/plain": [
       "414360.8805"
      ]
     },
     "execution_count": 111,
     "metadata": {},
     "output_type": "execute_result"
    }
   ],
   "source": [
    "prepayment_to_pay = prepayment_charges + pp_to_pay\n",
    "prepayment_to_pay"
   ]
  },
  {
   "cell_type": "code",
   "execution_count": 112,
   "metadata": {},
   "outputs": [
    {
     "data": {
      "text/plain": [
       "755639.1195"
      ]
     },
     "execution_count": 112,
     "metadata": {},
     "output_type": "execute_result"
    }
   ],
   "source": [
    "cash_in_hand = current_resale - prepayment_to_pay\n",
    "cash_in_hand"
   ]
  },
  {
   "cell_type": "code",
   "execution_count": 122,
   "metadata": {},
   "outputs": [
    {
     "data": {
      "text/plain": [
       "833614.61"
      ]
     },
     "execution_count": 122,
     "metadata": {},
     "output_type": "execute_result"
    }
   ],
   "source": [
    "total_paid = markup_paid + pp_paid + pp_to_pay + 0\n",
    "total_paid"
   ]
  },
  {
   "cell_type": "code",
   "execution_count": null,
   "metadata": {
    "collapsed": true
   },
   "outputs": [],
   "source": []
  },
  {
   "cell_type": "code",
   "execution_count": null,
   "metadata": {
    "collapsed": true
   },
   "outputs": [],
   "source": []
  }
 ],
 "metadata": {
  "kernelspec": {
   "display_name": "venv_scientific",
   "language": "python",
   "name": "venv_scientific"
  },
  "language_info": {
   "codemirror_mode": {
    "name": "ipython",
    "version": 2
   },
   "file_extension": ".py",
   "mimetype": "text/x-python",
   "name": "python",
   "nbconvert_exporter": "python",
   "pygments_lexer": "ipython2",
   "version": "2.7.5"
  }
 },
 "nbformat": 4,
 "nbformat_minor": 2
}
